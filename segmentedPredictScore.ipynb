{
 "cells": [
  {
   "cell_type": "code",
   "execution_count": null,
   "metadata": {
    "scrolled": true
   },
   "outputs": [],
   "source": [
    "#import packages\n",
    "import numpy as np\n",
    "import pandas as pd\n",
    "#import ggplot as ggp"
   ]
  },
  {
   "cell_type": "code",
   "execution_count": null,
   "metadata": {},
   "outputs": [],
   "source": [
    "#import data from csv\n",
    "dataTSF = pd.read_excel(\"\\path\\to\\folder\",sheet_name=\"Basistabel\")\n",
    "dataSeg = pd.read_excel(\"\\path\\to\\folder\")"
   ]
  },
  {
   "cell_type": "code",
   "execution_count": null,
   "metadata": {},
   "outputs": [],
   "source": [
    "#clean imported data\n",
    "selectTSF = [0,2,7,8,11]\n",
    "dataTSFShort = dataTSF.iloc[:,selectTSF]\n",
    "columsTSF = ['product','grid','issueYear','issueMonth','income']\n",
    "dataTSFShort.columns = columsTSF\n",
    "selectSeg = [0,1,2,3,5,7,8]\n",
    "dataSegShort = dataSeg.iloc[:,selectSeg]\n",
    "columsSeg = ['segment','clientName','grid','pam','pamLocation','sector','region']\n",
    "dataSegShort.columns = columsSeg\n",
    "\n",
    "print('-------------Sizes------------')\n",
    "print('size TSF:')\n",
    "print(dataTSFShort.shape)\n",
    "print('size Seg:')\n",
    "print(dataSegShort.shape)\n",
    "print('-----------HeadData-----------')\n",
    "print(dataTSFShort.head(5))\n",
    "print(dataSegShort.head(5))"
   ]
  },
  {
   "cell_type": "code",
   "execution_count": null,
   "metadata": {},
   "outputs": [],
   "source": [
    "#create descriptive dataframes of segmentation and of TSF data\n",
    "summaryTSF = dataTSFShort.groupby(['product','issueYear'])['income'].sum()\n",
    "summaryTSF = summaryTSF.to_frame(name=None)\n",
    "summarySeg = dataSegShort.groupby(['segment','sector','region'])['grid'].count()\n",
    "summarySeg = summarySeg.to_frame(name=None)\n",
    "\n",
    "print('-------------Sizes------------')\n",
    "print('size summary TSF:')\n",
    "print(summaryTSF.shape)\n",
    "print('size summary Seg:')\n",
    "print(summarySeg.shape)\n",
    "print('-----------HeadData-----------')\n",
    "print(summaryTSF.head(5))\n",
    "print(summarySeg.head(5))"
   ]
  },
  {
   "cell_type": "code",
   "execution_count": null,
   "metadata": {},
   "outputs": [],
   "source": [
    "#ggp.ggplot(summaryTSF, ggp.aes(x='issueYear', y='income', , color='product')) +\\\n",
    "#    ggp.geom_bar()"
   ]
  },
  {
   "cell_type": "code",
   "execution_count": null,
   "metadata": {},
   "outputs": [],
   "source": [
    "#inspect final data source\n",
    "fullData = pd.merge(dataTSFShort, dataSegShort, how=\"inner\", on=\"grid\")\n",
    "\n",
    "#Segmented Coverage\n",
    "segEUP = dataSegShort['grid'].unique()\n",
    "tsfEUP = dataTSFShort['grid'].unique()\n",
    "mergeEUP = fullData['grid'].unique()\n",
    "print('----Coverage---')\n",
    "print(float(mergeEUP.shape[0])/float(segEUP.shape[0]))\n",
    "print(segEUP.shape[0])\n",
    "print(tsfEUP.shape[0])\n",
    "print(mergeEUP.shape[0])\n",
    "\n",
    "companiesTSF   = dataTSFShort.grid.unique()\n",
    "companiesFinal = fullData['clientName'].unique()\n",
    "gridsFinal = fullData['grid'].unique()\n",
    "productsFinal = fullData['product'].unique()\n",
    "\n",
    "print('-------------Type-------------')\n",
    "print('type full data:')\n",
    "print(type(fullData))\n",
    "print(fullData.columns)\n",
    "print('-------------Size-------------')\n",
    "print('size full data:')\n",
    "print(fullData.size)\n",
    "print('number unique companies (pre/post filter):')\n",
    "print(companiesTSF.size)\n",
    "print('-----------HeadData-----------')\n",
    "print(fullData.head(5))\n",
    "print('--------Products-----------')\n",
    "print(productsFinal)\n"
   ]
  },
  {
   "cell_type": "code",
   "execution_count": null,
   "metadata": {},
   "outputs": [],
   "source": [
    "#Create predictive score\n",
    "compProdFinal = fullData.groupby(['grid','product']).size().reset_index().rename(columns={0:'count'})\n",
    "periods = list(range(1,13))\n",
    "cycles = list([2015,2016,2017])\n",
    "\n",
    "#one company and product example\n",
    "#queryString = '{0} {1}{2}{3} {4} {5}{6}{7}'.format(\"clientName ==\",\"'\",clients[countCompany],\"'\",\"& product ==\",\"'\",products[countProduct],\"'\")\n",
    "#oneDFCompany = fullData.query(queryString)\n",
    "\n",
    "s = (3,12)\n",
    "frame = np.ones(s)\n",
    "z = (compProdFinal.shape[0],11)\n",
    "predictScore = pd.DataFrame(np.zeros(z))\n",
    "\n",
    "#itter all products and clients\n",
    "#compProdFinal.shape[0]\n",
    "for clientNum in range(compProdFinal.shape[0]) :\n",
    "    CompanyDF = fullData[np.logical_and(fullData['grid'] == compProdFinal.iloc[clientNum,0],fullData['product'] == compProdFinal.iloc[clientNum,1])]\n",
    "    for year in range(0,3) :\n",
    "        for month in range(0,12) :\n",
    "            identifyIncome = CompanyDF[np.logical_and(CompanyDF['issueYear'] == cycles[year], CompanyDF['issueMonth'] == periods[month])]\n",
    "            if not identifyIncome.empty :\n",
    "                IncomeSwitch = 10\n",
    "                frame[year,month] =  IncomeSwitch\n",
    "            else :\n",
    "                IncomeSwitch = 1\n",
    "                frame[year,month] =  IncomeSwitch                              \n",
    "    predictScore.iloc[clientNum,0] = CompanyDF.iloc[0,6]\n",
    "    predictScore.iloc[clientNum,1] = CompanyDF.iloc[0,5]\n",
    "    predictScore.iloc[clientNum,2] = CompanyDF.iloc[0,1]\n",
    "    predictScore.iloc[clientNum,3] = CompanyDF.iloc[0,7]    \n",
    "    predictScore.iloc[clientNum,4] = CompanyDF.iloc[0,8]\n",
    "    predictScore.iloc[clientNum,5] = CompanyDF.iloc[0,9]\n",
    "    predictScore.iloc[clientNum,6] = CompanyDF.iloc[0,10]\n",
    "    predictScore.iloc[clientNum,7] = CompanyDF.iloc[0,0]\n",
    "    predictScore.iloc[clientNum,8] = np.sum(frame[0,:]*frame[1,:]*frame[2,:])\n",
    "    \n",
    "    income = CompanyDF.iloc[:,4]\n",
    "    income = income.replace(0, np.NaN)\n",
    "    income = income.mean()\n",
    "    predictScore.iloc[clientNum,9] = income\n",
    "    predictScore.iloc[clientNum,10] = predictScore.iloc[clientNum,9]*predictScore.iloc[clientNum,8]\n",
    "\n",
    "#Creating strings = forString = '{0} {1}{2}{3} {4} {5}{6}{7}'.format(\"issueYear ==\",\"'\",cycles[year],\"'\",\"& issueMonth ==\",\"'\",periods[month],\"'\")\n",
    "# identifyIncome = CompanyDF.query(forString)['clientName'].count()  "
   ]
  },
  {
   "cell_type": "code",
   "execution_count": null,
   "metadata": {},
   "outputs": [],
   "source": [
    "#Print result\n",
    "predictScore = predictScore[(predictScore.T != 0).any()]\n",
    "predictScore.columns = ['clientName','segment','grid','pam','pamLocation','sector','region','product','score','avgIncome','piScore']\n",
    "print(predictScore.sort_values(by=['score','avgIncome'], ascending=False).head(5))"
   ]
  },
  {
   "cell_type": "code",
   "execution_count": null,
   "metadata": {},
   "outputs": [],
   "source": [
    "#Export result\n",
    "predictScore = predictScore.sort_values(by=['score','avgIncome'], ascending=False)\n",
    "predictScore.to_excel('predictScore.xlsx')"
   ]
  },
  {
   "cell_type": "code",
   "execution_count": null,
   "metadata": {},
   "outputs": [],
   "source": [
    "#summarize results\n",
    "predictScoreResults_segRegion = predictScore.groupby(by=['segment','product'], as_index=False).agg({'score': pd.Series.mean, 'avgIncome': pd.Series.mean})\n",
    "predictScoreResults_productRegion = predictScore.groupby(by=['product','region'], as_index=False).agg({'score': pd.Series.mean, 'avgIncome': pd.Series.mean})\n",
    "predictScoreResults_sectorProduct = predictScore.groupby(by=['product','sector'], as_index=False).agg({'score': pd.Series.mean, 'avgIncome': pd.Series.mean, 'piScore': pd.Series.mean})\n",
    "predictScoreResults_all = predictScore.groupby(by=['segment','product','region','sector'], as_index=False).agg({'score': pd.Series.mean, 'avgIncome': pd.Series.mean})"
   ]
  },
  {
   "cell_type": "code",
   "execution_count": null,
   "metadata": {},
   "outputs": [],
   "source": [
    "print(predictScoreResults_sectorProduct.head(5))\n",
    "predictScoreResults_segRegion.to_excel('predictScoreResults_segRegion.xlsx')\n",
    "predictScoreResults_productRegion.to_excel('predictScoreResults_productRegion.xlsx')\n",
    "predictScoreResults_sectorProduct.to_excel('predictScoreResults_sectorProduct.xlsx')\n",
    "predictScoreResults_all.to_excel('predictScoreResults_all.xlsx')"
   ]
  },
  {
   "cell_type": "code",
   "execution_count": null,
   "metadata": {},
   "outputs": [],
   "source": []
  }
 ],
 "metadata": {
  "kernelspec": {
   "display_name": "Python 3",
   "language": "python",
   "name": "python3"
  },
  "language_info": {
   "codemirror_mode": {
    "name": "ipython",
    "version": 3
   },
   "file_extension": ".py",
   "mimetype": "text/x-python",
   "name": "python",
   "nbconvert_exporter": "python",
   "pygments_lexer": "ipython3",
   "version": "3.6.5"
  }
 },
 "nbformat": 4,
 "nbformat_minor": 2
}
